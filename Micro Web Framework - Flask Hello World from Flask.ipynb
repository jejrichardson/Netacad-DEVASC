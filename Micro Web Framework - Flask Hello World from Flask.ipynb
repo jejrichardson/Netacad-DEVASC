{
 "cells": [
  {
   "cell_type": "code",
   "execution_count": null,
   "metadata": {},
   "outputs": [
    {
     "name": "stdout",
     "output_type": "stream",
     "text": [
      " * Serving Flask app \"__main__\" (lazy loading)\n",
      " * Environment: production\n",
      "   WARNING: This is a development server. Do not use it in a production deployment.\n",
      "   Use a production WSGI server instead.\n",
      " * Debug mode: off\n"
     ]
    },
    {
     "name": "stderr",
     "output_type": "stream",
     "text": [
      " * Running on http://0.0.0.0:5000/ (Press CTRL+C to quit)\n",
      "127.0.0.1 - - [11/Mar/2021 16:06:31] \"GET /date HTTP/1.1\" 200 -\n",
      "127.0.0.1 - - [11/Mar/2021 16:06:31] \"GET /favicon.ico HTTP/1.1\" 200 -\n",
      "127.0.0.1 - - [11/Mar/2021 16:48:24] \"GET /favicon.ico HTTP/1.1\" 200 -\n"
     ]
    }
   ],
   "source": [
    "#!pip install flask\n",
    "#!pip install Faker\n",
    "# WSGI is a standard described on PEP 3333 and basically, provides a standard interface \n",
    "# between web applications written in Python and Webservers. \n",
    "# That means, WSGI gives portability to your Python Web Application across many different Web Servers, \n",
    "# without any additional configurations on your NGINX, Apache, etc.\n",
    "#### The two strange @app.route lines (above the functions) are decorators, \n",
    "# a unique feature of the Python language. # A decorator modifies the function that follows it. \n",
    "# A common pattern with decorators is to use them to register functions as callbacks for certain events. \n",
    "# In this case, the @app.route decorator creates an association between the URL given as an argument and the function. \n",
    "##### TO DO: implement this script in Docker\n",
    "\n",
    "from flask import Flask\n",
    "from faker import Faker\n",
    "from datetime import datetime\n",
    "#\n",
    "fake = Faker()\n",
    "app = Flask(__name__)\n",
    "#\n",
    "#fake.name()\n",
    "#fake.address()\n",
    "\n",
    "@app.route('/status/<device_id>')  ### not finished this function\n",
    "def dev_status(device_id):\n",
    "   return { \"system\": 1, \"device\": str(device_id) }\n",
    "\n",
    "@app.route('/time')\n",
    "def time(): \n",
    "   current_time = datetime.now().isoformat(' ')\n",
    "   return {\"datetime\": current_time}\n",
    "\n",
    "@app.route('/date')\n",
    "def date(): \n",
    "   current_date = datetime.today()\n",
    "   return {\"date\": current_date}\n",
    "\n",
    "@app.route('/<name>')\n",
    "def hello_name(name):\n",
    "    return \"Hello {}! Meet the recently identified {}\".format(name, fake.name())\n",
    "\n",
    "@app.route('/fake')\n",
    "def fake_person():\n",
    "    return \"The name of the identified person is {}\".format(fake.name())\n",
    "\n",
    "@app.route('/')\n",
    "def hello():\n",
    "    return \"Hello From Flask\"\n",
    "\n",
    "if __name__ == '__main__':\n",
    "    app.run(host='0.0.0.0', port=5000)"
   ]
  },
  {
   "cell_type": "code",
   "execution_count": 29,
   "metadata": {},
   "outputs": [
    {
     "name": "stdout",
     "output_type": "stream",
     "text": [
      "John Blair\n"
     ]
    }
   ],
   "source": [
    "from faker import Faker\n",
    "fake = Faker()\n",
    "#print(\"Hello {}! Do you know {}?\".format(\"you\", fake.name()))\n",
    "print(fake.name())"
   ]
  },
  {
   "cell_type": "code",
   "execution_count": 2,
   "metadata": {},
   "outputs": [
    {
     "name": "stdout",
     "output_type": "stream",
     "text": [
      "['__call__', '__class__', '__delattr__', '__dict__', '__dir__', '__doc__', '__eq__', '__format__', '__ge__', '__getattribute__', '__gt__', '__hash__', '__init__', '__init_subclass__', '__le__', '__lt__', '__module__', '__ne__', '__new__', '__reduce__', '__reduce_ex__', '__repr__', '__setattr__', '__sizeof__', '__str__', '__subclasshook__', '__weakref__', '_find_error_handler', '_get_exc_class_and_code', '_register_error_handler', 'add_template_filter', 'add_template_global', 'add_template_test', 'add_url_rule', 'after_request', 'app_context', 'app_ctx_globals_class', 'auto_find_instance_path', 'before_first_request', 'before_request', 'config_class', 'context_processor', 'create_global_jinja_loader', 'create_jinja_environment', 'create_url_adapter', 'debug', 'default_config', 'dispatch_request', 'do_teardown_appcontext', 'do_teardown_request', 'endpoint', 'env', 'errorhandler', 'finalize_request', 'full_dispatch_request', 'get_send_file_max_age', 'got_first_request', 'handle_exception', 'handle_http_exception', 'handle_url_build_error', 'handle_user_exception', 'has_static_folder', 'import_name', 'inject_url_defaults', 'iter_blueprints', 'jinja_env', 'jinja_environment', 'jinja_loader', 'jinja_options', 'json_decoder', 'json_encoder', 'log_exception', 'logger', 'make_config', 'make_default_options_response', 'make_null_session', 'make_response', 'make_shell_context', 'name', 'open_instance_resource', 'open_resource', 'open_session', 'permanent_session_lifetime', 'preprocess_request', 'preserve_context_on_exception', 'process_response', 'propagate_exceptions', 'raise_routing_exception', 'register_blueprint', 'register_error_handler', 'request_class', 'request_context', 'response_class', 'root_path', 'route', 'run', 'save_session', 'secret_key', 'select_jinja_autoescape', 'send_file_max_age_default', 'send_static_file', 'session_cookie_name', 'session_interface', 'shell_context_processor', 'should_ignore_error', 'static_folder', 'static_url_path', 'teardown_appcontext', 'teardown_request', 'template_filter', 'template_folder', 'template_global', 'template_test', 'templates_auto_reload', 'test_cli_runner', 'test_cli_runner_class', 'test_client', 'test_client_class', 'test_request_context', 'testing', 'trap_http_exception', 'try_trigger_before_first_request_functions', 'update_template_context', 'url_defaults', 'url_map_class', 'url_rule_class', 'url_value_preprocessor', 'use_x_sendfile', 'wsgi_app']\n"
     ]
    }
   ],
   "source": [
    "import flask\n",
    "print(dir(flask.Flask))"
   ]
  },
  {
   "cell_type": "code",
   "execution_count": 3,
   "metadata": {},
   "outputs": [
    {
     "data": {
      "text/plain": [
       "['__class__',\n",
       " '__delattr__',\n",
       " '__dict__',\n",
       " '__dir__',\n",
       " '__doc__',\n",
       " '__eq__',\n",
       " '__format__',\n",
       " '__ge__',\n",
       " '__getattr__',\n",
       " '__getattribute__',\n",
       " '__getitem__',\n",
       " '__gt__',\n",
       " '__hash__',\n",
       " '__init__',\n",
       " '__init_subclass__',\n",
       " '__le__',\n",
       " '__lt__',\n",
       " '__module__',\n",
       " '__ne__',\n",
       " '__new__',\n",
       " '__reduce__',\n",
       " '__reduce_ex__',\n",
       " '__repr__',\n",
       " '__setattr__',\n",
       " '__sizeof__',\n",
       " '__str__',\n",
       " '__subclasshook__',\n",
       " '__weakref__',\n",
       " '_map_provider_method',\n",
       " '_select_factory',\n",
       " 'cache_pattern',\n",
       " 'factories',\n",
       " 'generator_attrs',\n",
       " 'items',\n",
       " 'locales',\n",
       " 'random',\n",
       " 'seed',\n",
       " 'seed_instance',\n",
       " 'seed_locale',\n",
       " 'weights']"
      ]
     },
     "execution_count": 3,
     "metadata": {},
     "output_type": "execute_result"
    }
   ],
   "source": [
    "import faker\n",
    "dir(faker.Faker)"
   ]
  },
  {
   "cell_type": "code",
   "execution_count": 28,
   "metadata": {},
   "outputs": [
    {
     "name": "stdout",
     "output_type": "stream",
     "text": [
      "2021-03-11\n"
     ]
    }
   ],
   "source": [
    "from datetime import *\n",
    "#print(dir(date))\n",
    "print(date.today())\n",
    "\n"
   ]
  }
 ],
 "metadata": {
  "kernelspec": {
   "display_name": "Python 3",
   "language": "python",
   "name": "python3"
  },
  "language_info": {
   "codemirror_mode": {
    "name": "ipython",
    "version": 3
   },
   "file_extension": ".py",
   "mimetype": "text/x-python",
   "name": "python",
   "nbconvert_exporter": "python",
   "pygments_lexer": "ipython3",
   "version": "3.7.4"
  }
 },
 "nbformat": 4,
 "nbformat_minor": 2
}
