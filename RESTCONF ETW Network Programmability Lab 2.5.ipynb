{
 "cells": [
  {
   "cell_type": "code",
   "execution_count": 14,
   "metadata": {},
   "outputs": [
    {
     "name": "stdout",
     "output_type": "stream",
     "text": [
      "Current date and time: \n",
      "2021-03-25 16:07:59.876639\n",
      "Starting RESTCONF Application\n",
      "------1-------\n",
      "=> Creating request URL\n",
      "https://ios-xe-mgmt.cisco.com:9443/restconf/data/ietf-interfaces:interfaces\n",
      "------2-------\n",
      "=> Creating connection parameters for data exchange\n",
      "{'Accept': 'application/yang-data+json', 'Content-type': 'application/yang-data+json'}\n",
      "<class 'dict'>\n",
      "------3-------\n",
      "=> Creating authentication & authorization parameters\n",
      "('developer', 'C1sco12345!')\n",
      "<class 'tuple'>\n",
      "------4-------\n",
      "=> Sending GET request with defined parameters\n",
      "401\n"
     ]
    }
   ],
   "source": [
    "### RESTCONF ETW Network Programmability Lab 2.5\n",
    "### HTTP OPTIONS\n",
    "###### GET Read\n",
    "###### PATCH Update\n",
    "###### PUT Create or Replace\n",
    "###### POST Create or Operations (reload, default) ==> you can only POST once (on creation)!\n",
    "###### DELETE Deletes the targeted resource\n",
    "###### HEAD Header metadata (no response body)\n",
    "\n",
    "### 1 #### Connecting to Sandbox device using restconf ==> not always available\n",
    "import json\n",
    "import requests\n",
    "requests.packages.urllib3.disable_warnings()\n",
    "import datetime\n",
    "print (\"Current date and time: \")\n",
    "print(datetime.datetime.now())\n",
    "print(\"Starting RESTCONF Application\")\n",
    "print('------1-------')\n",
    "print(\"=> Creating request URL\")\n",
    "api_scheme = \"https://\"\n",
    "api_authority = \"ios-xe-mgmt.cisco.com\"  ### always on sandbox\n",
    "api_port = \":9443\"\n",
    "api_path = \"/restconf/data/ietf-interfaces:interfaces\"\n",
    "api_url = api_scheme + api_authority + api_port + api_path\n",
    "print(api_url)\n",
    "print('------2-------')\n",
    "print(\"=> Creating connection parameters for data exchange\")\n",
    "headers = { \"Accept\": \"application/yang-data+json\", \n",
    "            \"Content-type\":\"application/yang-data+json\"\n",
    "          } \n",
    "print(headers)\n",
    "print(type(headers))\n",
    "print('------3-------')\n",
    "print(\"=> Creating authentication & authorization parameters\")\n",
    "basicauth = ('developer', 'C1sco12345!')\n",
    "print(basicauth)\n",
    "print(type(basicauth))\n",
    "print('------4-------')\n",
    "print(\"=> Sending GET request with defined parameters\")\n",
    "resp = requests.get(api_url, auth=basicauth, headers=headers, verify=False)\n",
    "print(resp.status_code)"
   ]
  },
  {
   "cell_type": "code",
   "execution_count": 6,
   "metadata": {},
   "outputs": [
    {
     "name": "stdout",
     "output_type": "stream",
     "text": [
      "Current date and time: \n",
      "2021-03-25 16:05:16.721662\n",
      "Starting RESTCONF Application\n",
      "------1-------\n",
      "=> Creating request URL\n",
      "https://192.168.56.107/restconf/data/ietf-interfaces:interfaces\n",
      "------2-------\n",
      "=> Creating connection parameters for data exchange\n",
      "{'Accept': 'application/yang-data+json', 'Content-type': 'application/yang-data+json'}\n",
      "<class 'dict'>\n",
      "------3-------\n",
      "=> Creating authentication & authorization parameters\n",
      "('cisco', 'cisco123!')\n",
      "<class 'tuple'>\n",
      "------4-------\n",
      "=> Sending GET request with defined parameters\n",
      "200\n"
     ]
    }
   ],
   "source": [
    "### 2 #### Connecting to local virtual router using RESTCONF\n",
    "import json\n",
    "import requests\n",
    "requests.packages.urllib3.disable_warnings()\n",
    "import datetime\n",
    "print (\"Current date and time: \")\n",
    "print(datetime.datetime.now())\n",
    "print(\"Starting RESTCONF Application\")\n",
    "print('------1-------')\n",
    "print(\"=> Creating request URL\")\n",
    "api_scheme = \"https://\"\n",
    "api_authority = \"192.168.56.107\"      ### virtual CSR1Kv router\n",
    "api_path = \"/restconf/data/ietf-interfaces:interfaces\"\n",
    "api_url = api_scheme + api_authority + api_path\n",
    "print(api_url)\n",
    "print('------2-------')\n",
    "print(\"=> Creating connection parameters for data exchange\")\n",
    "headers = { \"Accept\": \"application/yang-data+json\", \n",
    "            \"Content-type\":\"application/yang-data+json\"\n",
    "          } \n",
    "print(headers)\n",
    "print(type(headers))\n",
    "print('------3-------')\n",
    "print(\"=> Creating authentication & authorization parameters\")\n",
    "basicauth = (\"cisco\", \"cisco123!\")\n",
    "print(basicauth)\n",
    "print(type(basicauth))\n",
    "print('------4-------')\n",
    "print(\"=> Sending GET request with defined parameters\")\n",
    "### ** kwargs => keyword argument\n",
    "resp = requests.get(api_url, auth=basicauth, headers=headers, verify=False)\n",
    "print(resp.status_code)"
   ]
  },
  {
   "cell_type": "code",
   "execution_count": 7,
   "metadata": {},
   "outputs": [
    {
     "name": "stdout",
     "output_type": "stream",
     "text": [
      "Current date and time: \n",
      "2021-03-25 16:05:21.454366\n",
      "------1-------\n",
      "=> Handling HTTP Response\n",
      "------2-------\n",
      "=> Printing raw response --- Dynamic DHCP Address not shown\n",
      "{'ietf-interfaces:interfaces': {'interface': [{'name': 'GigabitEthernet1', 'description': 'VBox', 'type': 'iana-if-type:ethernetCsmacd', 'enabled': True, 'ietf-ip:ipv4': {}, 'ietf-ip:ipv6': {}}]}}\n"
     ]
    }
   ],
   "source": [
    "import datetime\n",
    "print (\"Current date and time: \")\n",
    "print(datetime.datetime.now())\n",
    "print('------1-------')\n",
    "print(\"=> Handling HTTP Response\")\n",
    "response_json = resp.json()\n",
    "print('------2-------')\n",
    "print(\"=> Printing raw response --- Dynamic DHCP Address not shown\")\n",
    "print(response_json) "
   ]
  },
  {
   "cell_type": "code",
   "execution_count": 8,
   "metadata": {},
   "outputs": [
    {
     "name": "stdout",
     "output_type": "stream",
     "text": [
      "Current date and time: \n",
      "2021-03-25 16:05:27.770890\n",
      "------1-------\n",
      "=> Printing pretty response\n",
      "{\n",
      "  \"ietf-interfaces:interfaces\": {\n",
      "    \"interface\": [\n",
      "      {\n",
      "        \"name\": \"GigabitEthernet1\",\n",
      "        \"description\": \"VBox\",\n",
      "        \"type\": \"iana-if-type:ethernetCsmacd\",\n",
      "        \"enabled\": true,\n",
      "        \"ietf-ip:ipv4\": {},\n",
      "        \"ietf-ip:ipv6\": {}\n",
      "      }\n",
      "    ]\n",
      "  }\n",
      "}\n",
      "------2-------\n",
      "=> Printing filtered response\n",
      "Interface Name: \n",
      "GigabitEthernet1\n",
      "{}\n"
     ]
    }
   ],
   "source": [
    "import datetime\n",
    "print (\"Current date and time: \")\n",
    "print(datetime.datetime.now())\n",
    "print('------1-------')\n",
    "print(\"=> Printing pretty response\")\n",
    "print(json.dumps(response_json, indent=2))\n",
    "print('------2-------')\n",
    "print(\"=> Printing filtered response\")\n",
    "#print(dir(response_json[\"ietf-interfaces:interfaces\"]))\n",
    "print(\"Interface Name: \")\n",
    "print(response_json[\"ietf-interfaces:interfaces\"][\"interface\"][0][\"name\"])\n",
    "#print(\"IP Address + Subnet: \" )\n",
    "ip_subnet = response_json[\"ietf-interfaces:interfaces\"][\"interface\"][0][\"ietf-ip:ipv4\"]#[\"address\"]#[\"ip\"]\n",
    "print(ip_subnet)\n",
    "#print(\"IP Address: \" )\n",
    "#ip = response_json[\"ietf-interfaces:interfaces\"][\"interface\"][0][\"ietf-ip:ipv4\"][\"address\"][0][\"ip\"]\n",
    "#print(ip)"
   ]
  },
  {
   "cell_type": "code",
   "execution_count": 9,
   "metadata": {},
   "outputs": [
    {
     "name": "stdout",
     "output_type": "stream",
     "text": [
      "Current date and time: \n",
      "2021-03-25 16:05:32.673047\n",
      "------1-------\n",
      "=> Printing response in different format (yaml)\n",
      "ietf-interfaces:interfaces:\n",
      "  interface:\n",
      "  - description: VBox\n",
      "    enabled: true\n",
      "    ietf-ip:ipv4: {}\n",
      "    ietf-ip:ipv6: {}\n",
      "    name: GigabitEthernet1\n",
      "    type: iana-if-type:ethernetCsmacd\n",
      "\n"
     ]
    }
   ],
   "source": [
    "import datetime\n",
    "print (\"Current date and time: \")\n",
    "print(datetime.datetime.now())\n",
    "print('------1-------')\n",
    "print(\"=> Printing response in different format (yaml)\")\n",
    "import yaml\n",
    "yaml_data = yaml.dump(response_json)\n",
    "print(yaml_data)\n"
   ]
  },
  {
   "cell_type": "code",
   "execution_count": 10,
   "metadata": {},
   "outputs": [
    {
     "name": "stdout",
     "output_type": "stream",
     "text": [
      "Current date and time: \n",
      "2021-03-25 16:05:43.873423\n",
      "------1-------\n",
      "=> Creating variable named api_url and assign the URL that targets the Loopback1 interface\n",
      "------2-------\n",
      "=> Creating headers, Accept and Content-type, assign value application/yang-data+json\n",
      "{'Accept': 'application/yang-data+json', 'Content-type': 'application/yang-data+json'}\n",
      "<class 'dict'>\n",
      "------3-------\n",
      "=> Creating dictionary variable yangConfig to create new Loopback interface \n",
      "<class 'dict'>\n"
     ]
    }
   ],
   "source": [
    "import datetime\n",
    "print (\"Current date and time: \")\n",
    "print(datetime.datetime.now())\n",
    "print('------1-------')\n",
    "print(\"=> Creating variable named api_url and assign the URL that targets the Loopback1 interface\")\n",
    "new_interface = \"Loopback100\"\n",
    "new_ip = \"10.100.100.100\"\n",
    "api_scheme = \"https://\"\n",
    "api_authority = \"192.168.56.107\"\n",
    "api_path = \"/restconf/data/ietf-interfaces:interfaces/interface=\"+new_interface\n",
    "api_url = api_scheme + api_authority + api_path\n",
    "print('------2-------')\n",
    "print(\"=> Creating headers, Accept and Content-type, assign value application/yang-data+json\")\n",
    "headers = {\n",
    "            \"Accept\": \"application/yang-data+json\", \n",
    "            \"Content-type\":\"application/yang-data+json\"\n",
    "          }\n",
    "print(headers)\n",
    "print(type(headers))\n",
    "print('------3-------')\n",
    "print(\"=> Creating dictionary variable yangConfig to create new Loopback interface \")\n",
    "\n",
    "yangConfig = {\n",
    "  \"ietf-interfaces:interface\": {\n",
    "    \"name\": new_interface,\n",
    "    \"description\": \"My first RESTCONF loopback\",\n",
    "    \"type\": \"iana-if-type:softwareLoopback\",\n",
    "    \"enabled\": True,\n",
    "    \"ietf-ip:ipv4\": {\n",
    "      \"address\": [\n",
    "        {\n",
    "          \"ip\": new_ip,\n",
    "          \"netmask\": \"255.255.255.0\"\n",
    "        }\n",
    "      ]\n",
    "    },\n",
    "    \"ietf-ip:ipv6\": {}\n",
    "  }\n",
    "}\n",
    "\n",
    "print(type(yangConfig))\n"
   ]
  },
  {
   "cell_type": "code",
   "execution_count": 11,
   "metadata": {},
   "outputs": [
    {
     "name": "stdout",
     "output_type": "stream",
     "text": [
      "Current date and time: \n",
      "2021-03-25 16:05:48.744591\n",
      "------1-------\n",
      "Sending HTTP PUT request to RESTCONF API\n",
      "STATUS OK: 201\n"
     ]
    }
   ],
   "source": [
    "print (\"Current date and time: \")\n",
    "print(datetime.datetime.now())\n",
    "print('------1-------')\n",
    "print(\"Sending HTTP PUT request to RESTCONF API\")\n",
    "resp = requests.put(api_url, data=json.dumps(yangConfig), auth=basicauth, headers=headers, verify=False)\n",
    "if(resp.status_code >= 200 and resp.status_code <= 299):\n",
    "    print(\"STATUS OK: {}\".format(resp.status_code))\n",
    "else:\n",
    "    print(\"Error code {}, reply: {}\".format(resp.status_code, resp.json()))\n",
    "# SHOULD BE: 201 Created"
   ]
  },
  {
   "cell_type": "code",
   "execution_count": 12,
   "metadata": {},
   "outputs": [
    {
     "name": "stdout",
     "output_type": "stream",
     "text": [
      "Current date and time: \n",
      "2021-03-25 16:05:52.456440\n",
      "Requesting information after PUT operation and printing response in different format\n",
      "ietf-interfaces:interface:\n",
      "  description: My first RESTCONF loopback\n",
      "  enabled: true\n",
      "  ietf-ip:ipv4:\n",
      "    address:\n",
      "    - ip: 10.100.100.100\n",
      "      netmask: 255.255.255.0\n",
      "  ietf-ip:ipv6: {}\n",
      "  name: Loopback100\n",
      "  type: iana-if-type:softwareLoopback\n",
      "\n"
     ]
    }
   ],
   "source": [
    "print (\"Current date and time: \")\n",
    "print(datetime.datetime.now())\n",
    "print(\"Requesting information after PUT operation and printing response in different format\")\n",
    "import yaml\n",
    "resp = requests.get(api_url, auth=basicauth, headers=headers, verify=False)\n",
    "yaml_data = yaml.dump(resp.json())\n",
    "print(yaml_data)"
   ]
  },
  {
   "cell_type": "code",
   "execution_count": 13,
   "metadata": {},
   "outputs": [
    {
     "name": "stdout",
     "output_type": "stream",
     "text": [
      "Current date and time: \n",
      "2021-03-25 16:06:13.260165\n",
      "Sending DELETE request to remove interface\n",
      "-------1-------\n",
      "204\n",
      "-------2-------\n",
      "https://192.168.56.107/restconf/data/ietf-interfaces:interfaces/interface=Loopback100\n",
      "204\n",
      "-------3-------\n",
      "<class 'requests.models.Response'>\n"
     ]
    }
   ],
   "source": [
    "print (\"Current date and time: \")\n",
    "print(datetime.datetime.now())\n",
    "print('Sending DELETE request to remove interface')\n",
    "print('-------1-------')\n",
    "yang_config = {\n",
    "  \"ietf-interfaces:interface\": {\n",
    "    \"name\": new_interface,\n",
    "    \"description\": \"\",\n",
    "    \"type\": \"iana-if-type:softwareLoopback\",\n",
    "    \"enabled\": True,\n",
    "    \"ietf-ip:ipv4\": {\n",
    "      \"address\": [\n",
    "        {\n",
    "          \"ip\": \"\",\n",
    "          \"netmask\": \"\"\n",
    "        }\n",
    "      ]\n",
    "    },\n",
    "    \"ietf-ip:ipv6\": {}\n",
    "  }\n",
    "}\n",
    "resp = requests.request('DELETE', api_url, auth=basicauth, headers=headers, json=yang_config, verify=False)\n",
    "print(resp.status_code)\n",
    "print('-------2-------')\n",
    "print(api_url)\n",
    "print(resp.status_code)\n",
    "print('-------3-------')\n",
    "print(type(resp))\n",
    "# SHOULD BE: 204 No Content"
   ]
  }
 ],
 "metadata": {
  "kernelspec": {
   "display_name": "Python 3",
   "language": "python",
   "name": "python3"
  },
  "language_info": {
   "codemirror_mode": {
    "name": "ipython",
    "version": 3
   },
   "file_extension": ".py",
   "mimetype": "text/x-python",
   "name": "python",
   "nbconvert_exporter": "python",
   "pygments_lexer": "ipython3",
   "version": "3.7.4"
  }
 },
 "nbformat": 4,
 "nbformat_minor": 4
}
